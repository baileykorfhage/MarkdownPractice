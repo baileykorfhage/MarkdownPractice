{
 "cells": [
  {
   "cell_type": "code",
   "execution_count": 1,
   "id": "f3d08e64",
   "metadata": {},
   "outputs": [
    {
     "name": "stdout",
     "output_type": "stream",
     "text": [
      "6\n"
     ]
    }
   ],
   "source": [
    "a=3\n",
    "b=a*2\n",
    "print (b)"
   ]
  },
  {
   "cell_type": "code",
   "execution_count": 2,
   "id": "10da8646",
   "metadata": {},
   "outputs": [
    {
     "name": "stdout",
     "output_type": "stream",
     "text": [
      "14\n"
     ]
    }
   ],
   "source": [
    "h=6\n",
    "t=8+h\n",
    "print (t)"
   ]
  },
  {
   "cell_type": "code",
   "execution_count": 3,
   "id": "7e9db6f6",
   "metadata": {},
   "outputs": [
    {
     "name": "stdout",
     "output_type": "stream",
     "text": [
      "Hello Sarkar\n"
     ]
    }
   ],
   "source": [
    "print(\"Hello Sarkar\")"
   ]
  },
  {
   "cell_type": "markdown",
   "id": "a3d6acda",
   "metadata": {},
   "source": [
    "# Heading1"
   ]
  },
  {
   "cell_type": "markdown",
   "id": "18477adb",
   "metadata": {},
   "source": [
    "## Heading 2"
   ]
  },
  {
   "cell_type": "markdown",
   "id": "c74c7425",
   "metadata": {},
   "source": [
    "### Heading 3\n",
    "#### Heading 4\n",
    "##### Heading 5\n",
    "###### Heading 6"
   ]
  },
  {
   "cell_type": "markdown",
   "id": "21c385e6",
   "metadata": {},
   "source": [
    "> In the sky there are always answers and explanations for everything: every pain, every suffering, joy and confusion"
   ]
  },
  {
   "cell_type": "markdown",
   "id": "f0fade8b",
   "metadata": {},
   "source": [
    "* This is the first bullet\n",
    "* This is the second bullet"
   ]
  },
  {
   "cell_type": "markdown",
   "id": "9064049f",
   "metadata": {},
   "source": [
    "1. this is the first item\n",
    "2. this is the second item"
   ]
  },
  {
   "cell_type": "markdown",
   "id": "a65c114a",
   "metadata": {},
   "source": [
    "**These are bold words**"
   ]
  },
  {
   "cell_type": "markdown",
   "id": "516ea8e1",
   "metadata": {},
   "source": [
    "*These are italicized words*"
   ]
  },
  {
   "cell_type": "markdown",
   "id": "d7330871",
   "metadata": {},
   "source": [
    "`Here is a code for printing statements`"
   ]
  },
  {
   "cell_type": "markdown",
   "id": "3186798c",
   "metadata": {},
   "source": [
    "<a href=\"https://www.google.com/\">Google</a>"
   ]
  },
  {
   "cell_type": "markdown",
   "id": "9a358e59",
   "metadata": {},
   "source": [
    "![Bellarmine Library](data:image/jpeg;base64,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)"
   ]
  },
  {
   "cell_type": "code",
   "execution_count": null,
   "id": "e60d3f21",
   "metadata": {},
   "outputs": [],
   "source": []
  }
 ],
 "metadata": {
  "kernelspec": {
   "display_name": "Python 3 (ipykernel)",
   "language": "python",
   "name": "python3"
  },
  "language_info": {
   "codemirror_mode": {
    "name": "ipython",
    "version": 3
   },
   "file_extension": ".py",
   "mimetype": "text/x-python",
   "name": "python",
   "nbconvert_exporter": "python",
   "pygments_lexer": "ipython3",
   "version": "3.9.12"
  }
 },
 "nbformat": 4,
 "nbformat_minor": 5
}
